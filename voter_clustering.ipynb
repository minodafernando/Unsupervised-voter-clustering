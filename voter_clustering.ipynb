{
 "cells": [
  {
   "cell_type": "markdown",
   "id": "40bf5855-4708-4745-9f5a-72f4a6d132a3",
   "metadata": {},
   "source": [
    "### Variables\n",
    "\n",
    "- ts = timeseries dataset\n",
    "- ts_clean = ts with negs replaced with NaN and rows with less than or = 4 non-Nans are dropped\n",
    "- sdsc = StandardScaler\n",
    "- ts_num = ts_clean with string vals dropped\n",
    "- scale_num = scaled ts_num\n",
    "- kmns = KMeans"
   ]
  },
  {
   "cell_type": "code",
   "execution_count": 2,
   "id": "eac96211-dab1-46dd-832b-da46f6ac970c",
   "metadata": {},
   "outputs": [
    {
     "name": "stderr",
     "output_type": "stream",
     "text": [
      "C:\\Users\\minod\\AppData\\Local\\Temp\\ipykernel_9848\\1002808299.py:5: DtypeWarning: Columns (6,7,8,12,13,14,15,16,17,705,706) have mixed types. Specify dtype option on import or set low_memory=False.\n",
      "  ts = pd.read_csv(\"anes_timeseries_2024_csv_20250219.csv\")\n"
     ]
    }
   ],
   "source": [
    "import numpy as np\n",
    "import pandas as pd\n",
    "\n",
    "# ts = time series\n",
    "ts = pd.read_csv(\"anes_timeseries_2024_csv_20250219.csv\")\n",
    "\n"
   ]
  },
  {
   "cell_type": "code",
   "execution_count": 3,
   "id": "0f591f76-2f7f-4d42-8104-4f7751e9071b",
   "metadata": {},
   "outputs": [],
   "source": [
    "# Clean up >0 values --> NaN\n",
    "\n",
    "neg_to_nan = {i: np.nan for i in range(-99, 0)}\n",
    "\n",
    "# replace all negs\n",
    "ts_clean = ts.replace(neg_to_nan)\n",
    "\n",
    "# dont need rows with too many NaNs\n",
    "# remove row with >=4 Nans --> keep rows with 5+ nonNaN vals\n",
    "# keep rest of rows\n",
    "ts_clean = ts_clean.dropna(thresh=5)\n",
    "\n",
    "#ts_clean.head()"
   ]
  },
  {
   "cell_type": "code",
   "execution_count": 4,
   "id": "638dd99c-229c-44d4-a09a-e34ebd565488",
   "metadata": {},
   "outputs": [
    {
     "data": {
      "text/plain": [
       "V240105a       0\n",
       "V241001        0\n",
       "V241002        0\n",
       "V241003        0\n",
       "V241004        0\n",
       "            ... \n",
       "V241618        0\n",
       "V241619        0\n",
       "V241620        0\n",
       "V241621        0\n",
       "V241622     3349\n",
       "Length: 684, dtype: int64"
      ]
     },
     "execution_count": 4,
     "metadata": {},
     "output_type": "execute_result"
    }
   ],
   "source": [
    "# Scaling the dataset\n",
    "\n",
    "from sklearn.preprocessing import StandardScaler as sdsc\n",
    "\n",
    "# new\n",
    "scaler = sdsc()\n",
    "\n",
    "# string values still there (used scaler, didnt scale) --> removing strings\n",
    "ts_num = ts_clean.select_dtypes(float)\n",
    "# fill NaNs with mean of each row\n",
    "ts_num = ts_num.fillna(ts_num.mean())\n",
    "\n",
    "\n",
    "\n",
    "\n",
    "\n",
    "\n",
    "# debug\n",
    "ts_num.isnull().sum()\n",
    "# scaling\n",
    "#scale_num = scaler.fit_transform(ts_num)\n"
   ]
  },
  {
   "cell_type": "code",
   "execution_count": 5,
   "id": "26d587b4-67ff-42c7-a646-db3cb2da27e1",
   "metadata": {},
   "outputs": [
    {
     "data": {
      "text/plain": [
       "V240105a    3273\n",
       "V241001        3\n",
       "V241002        3\n",
       "V241003        3\n",
       "V241004        6\n",
       "            ... \n",
       "V241618        8\n",
       "V241619        6\n",
       "V241620        6\n",
       "V241621        6\n",
       "V241622        0\n",
       "Length: 684, dtype: int64"
      ]
     },
     "execution_count": 5,
     "metadata": {},
     "output_type": "execute_result"
    }
   ],
   "source": [
    "ts_num.nunique()"
   ]
  },
  {
   "cell_type": "code",
   "execution_count": 6,
   "id": "912e5091-2aea-4824-a0f6-de29d79556de",
   "metadata": {},
   "outputs": [],
   "source": [
    "# dropping columns (axis = 1) with NaN values\n",
    "ts_num = ts_num.dropna(axis=1, how='any')\n"
   ]
  },
  {
   "cell_type": "code",
   "execution_count": 7,
   "id": "5e15b865-1306-4cae-b32f-40b0f463f678",
   "metadata": {},
   "outputs": [
    {
     "data": {
      "text/plain": [
       "V240105a    True\n",
       "V241001     True\n",
       "V241002     True\n",
       "V241003     True\n",
       "V241004     True\n",
       "            ... \n",
       "V241617     True\n",
       "V241618     True\n",
       "V241619     True\n",
       "V241620     True\n",
       "V241621     True\n",
       "Length: 555, dtype: bool"
      ]
     },
     "execution_count": 7,
     "metadata": {},
     "output_type": "execute_result"
    }
   ],
   "source": [
    "ts_num.nunique() > 1"
   ]
  },
  {
   "cell_type": "code",
   "execution_count": 8,
   "id": "deb3e82a-ebf2-443e-9148-be4923484cf0",
   "metadata": {},
   "outputs": [],
   "source": [
    "# keep good columns \n",
    "good_cols = ts_num.nunique()[ts_num.nunique() > 1].index\n",
    "\n",
    "ts_num = ts_num[good_cols]\n",
    "\n",
    "#ts_num.head()"
   ]
  },
  {
   "cell_type": "markdown",
   "id": "a36c7d3c-e446-4f82-b8a8-ad16fb724f72",
   "metadata": {},
   "source": [
    "#### Progress:\n",
    "\n",
    "- removed all NaN columns\n",
    "- replaced NaNs with mean of row\n",
    "- dropped shitty columns"
   ]
  },
  {
   "cell_type": "code",
   "execution_count": 9,
   "id": "856b44d3-a36b-4f60-a77e-283091449c00",
   "metadata": {},
   "outputs": [],
   "source": [
    "# SCALING FINALLY\n",
    "\n",
    "scale_num = scaler.fit_transform(ts_num)"
   ]
  },
  {
   "cell_type": "markdown",
   "id": "9c996050-2835-44a1-a0fa-65ad5a34cb4f",
   "metadata": {},
   "source": [
    "## Clustering - KMeans"
   ]
  },
  {
   "cell_type": "code",
   "execution_count": 10,
   "id": "29fa249d-278c-425c-896c-cdd5d547b82c",
   "metadata": {},
   "outputs": [],
   "source": [
    "from sklearn.cluster import KMeans as kmns"
   ]
  },
  {
   "cell_type": "code",
   "execution_count": 11,
   "id": "cd961309-de89-4a7a-8128-21a656c5b1d6",
   "metadata": {},
   "outputs": [],
   "source": [
    "# TEST\n",
    "# starting with k = 3\n",
    "\n",
    "test_model = kmns(n_clusters = 3, random_state = 42)\n",
    "\n",
    "# grouping model\n",
    "train_model = test_model.fit_predict(scale_num)\n"
   ]
  },
  {
   "cell_type": "code",
   "execution_count": 12,
   "id": "549bbb59-bd3e-4ca4-8a1a-886efc47f19a",
   "metadata": {},
   "outputs": [
    {
     "name": "stderr",
     "output_type": "stream",
     "text": [
      "C:\\Users\\minod\\AppData\\Local\\Temp\\ipykernel_9848\\516260197.py:3: PerformanceWarning: DataFrame is highly fragmented.  This is usually the result of calling `frame.insert` many times, which has poor performance.  Consider joining all columns at once using pd.concat(axis=1) instead. To get a de-fragmented frame, use `newframe = frame.copy()`\n",
      "  ts_num[\"cluster\"] = train_model\n"
     ]
    }
   ],
   "source": [
    "# ^ train model is an array\n",
    "# add that array as a new column into ts_num\n",
    "ts_num[\"cluster\"] = train_model"
   ]
  },
  {
   "cell_type": "code",
   "execution_count": 13,
   "id": "ce9247ce-4ff6-4525-99ab-07f41b379f2f",
   "metadata": {},
   "outputs": [],
   "source": [
    "# group by clusters --> 3 clusters\n",
    "cluster_summ = ts_num.groupby(\"cluster\").mean()"
   ]
  },
  {
   "cell_type": "code",
   "execution_count": 83,
   "id": "3c6c76e4-dc4f-499b-901e-a378a40b3e2b",
   "metadata": {},
   "outputs": [
    {
     "data": {
      "image/png": "[encoded data removed]",
      "text/plain": [
       "<Figure size 640x480 with 1 Axes>"
      ]
     },
     "metadata": {},
     "output_type": "display_data"
    },
    {
     "data": {
      "text/plain": [
       "<Figure size 640x480 with 0 Axes>"
      ]
     },
     "metadata": {},
     "output_type": "display_data"
    }
   ],
   "source": [
    "import matplotlib.pyplot as plt\n",
    "\n",
    "# plotting 2 clusters\n",
    "\n",
    "# V241004 = political attention --> lower = more attentive, higher = less attentive\n",
    "#V241043 = intended presidential vote --> 1=Harris, 2=Trump, 5=other\n",
    "\n",
    "\n",
    "cluster_summ.rename(columns={\n",
    "    \"V241004\": \"Political Attentiveness (lower = more attentive)\",\n",
    "    \"V241043\": \"Presidential Vote Intent\"\n",
    "})[[\"Political Attentiveness (lower = more attentive)\", \"Presidential Vote Intent\"]].plot(kind=\"bar\", color=[\"#4a6274\",\"#d294af\"])\n",
    "plt.xlabel(\"Cluster Number\")\n",
    "plt.xticks(rotation = 0)\n",
    "plt.title(\"Political Attention and Presidential Vote Intent by Voter Cluster\", pad=20, fontsize=14)\n",
    "plt.show()\n",
    "plt.savefig(\"political_attention_pres_vote.png\")\n",
    "\n",
    "# Output\n",
    "# pol attention - cluster 0 --> highest, cluster 1 --> mid, 2 --> lowest\n",
    "# presidential vote - cluster 0 --> harris leaning, 1 --> trump leaning, 3 --> trump leaning + unsure"
   ]
  },
  {
   "cell_type": "markdown",
   "id": "61763878-3c15-4ce9-852c-62b955b65c4e",
   "metadata": {},
   "source": [
    "## Meaning of chart\n",
    "\n",
    "### cluster 0 = most politically attentive, Harris-leaning\n",
    "### cluster 1 = mid politically attentive, Trump-leaning\n",
    "### cluster 2 = lowest political attention, unknown/Trump-leaning"
   ]
  },
  {
   "cell_type": "code",
   "execution_count": 16,
   "id": "61ef3d5e-4610-4774-af19-e2cb6437e5a3",
   "metadata": {},
   "outputs": [
    {
     "data": {
      "text/plain": [
       "cluster  V241003\n",
       "0        1.000      168\n",
       "         1.525      753\n",
       "         2.000      216\n",
       "1        1.000      170\n",
       "         1.525      634\n",
       "         2.000      117\n",
       "2        1.000      156\n",
       "         1.525      922\n",
       "         2.000      213\n",
       "dtype: int64"
      ]
     },
     "execution_count": 16,
     "metadata": {},
     "output_type": "execute_result"
    }
   ],
   "source": [
    "# by demographics --> man/woman --> V241003\n",
    "# 1 = man, 2 = woman\n",
    "ts_num.groupby([\"cluster\", \"V241003\"]).size()"
   ]
  },
  {
   "cell_type": "code",
   "execution_count": 17,
   "id": "15e2d408-cb50-416b-bd89-07c1d450fe36",
   "metadata": {},
   "outputs": [
    {
     "data": {
      "text/html": [
       "<div>\n",
       "<style scoped>\n",
       "    .dataframe tbody tr th:only-of-type {\n",
       "        vertical-align: middle;\n",
       "    }\n",
       "\n",
       "    .dataframe tbody tr th {\n",
       "        vertical-align: top;\n",
       "    }\n",
       "\n",
       "    .dataframe thead th {\n",
       "        text-align: right;\n",
       "    }\n",
       "</style>\n",
       "<table border=\"1\" class=\"dataframe\">\n",
       "  <thead>\n",
       "    <tr style=\"text-align: right;\">\n",
       "      <th>V241003</th>\n",
       "      <th>1.000</th>\n",
       "      <th>1.525</th>\n",
       "      <th>2.000</th>\n",
       "    </tr>\n",
       "    <tr>\n",
       "      <th>cluster</th>\n",
       "      <th></th>\n",
       "      <th></th>\n",
       "      <th></th>\n",
       "    </tr>\n",
       "  </thead>\n",
       "  <tbody>\n",
       "    <tr>\n",
       "      <th>0</th>\n",
       "      <td>168</td>\n",
       "      <td>753</td>\n",
       "      <td>216</td>\n",
       "    </tr>\n",
       "    <tr>\n",
       "      <th>1</th>\n",
       "      <td>170</td>\n",
       "      <td>634</td>\n",
       "      <td>117</td>\n",
       "    </tr>\n",
       "    <tr>\n",
       "      <th>2</th>\n",
       "      <td>156</td>\n",
       "      <td>922</td>\n",
       "      <td>213</td>\n",
       "    </tr>\n",
       "  </tbody>\n",
       "</table>\n",
       "</div>"
      ],
      "text/plain": [
       "V241003  1.000  1.525  2.000\n",
       "cluster                     \n",
       "0          168    753    216\n",
       "1          170    634    117\n",
       "2          156    922    213"
      ]
     },
     "execution_count": 17,
     "metadata": {},
     "output_type": "execute_result"
    }
   ],
   "source": [
    "# raw gender count per cluster\n",
    "# 1.525 --> unknown cause NaN replaced with means\n",
    "\n",
    "gender_counts = ts_num.groupby([\"cluster\", \"V241003\"]).size().unstack()\n",
    "\n",
    "gender_counts"
   ]
  },
  {
   "cell_type": "code",
   "execution_count": 18,
   "id": "56ffca9c-3f86-4324-940c-1647e4be43a5",
   "metadata": {},
   "outputs": [
    {
     "data": {
      "text/html": [
       "<div>\n",
       "<style scoped>\n",
       "    .dataframe tbody tr th:only-of-type {\n",
       "        vertical-align: middle;\n",
       "    }\n",
       "\n",
       "    .dataframe tbody tr th {\n",
       "        vertical-align: top;\n",
       "    }\n",
       "\n",
       "    .dataframe thead th {\n",
       "        text-align: right;\n",
       "    }\n",
       "</style>\n",
       "<table border=\"1\" class=\"dataframe\">\n",
       "  <thead>\n",
       "    <tr style=\"text-align: right;\">\n",
       "      <th>V241003</th>\n",
       "      <th>1.000</th>\n",
       "      <th>1.525</th>\n",
       "      <th>2.000</th>\n",
       "    </tr>\n",
       "    <tr>\n",
       "      <th>cluster</th>\n",
       "      <th></th>\n",
       "      <th></th>\n",
       "      <th></th>\n",
       "    </tr>\n",
       "  </thead>\n",
       "  <tbody>\n",
       "    <tr>\n",
       "      <th>0</th>\n",
       "      <td>14.775726</td>\n",
       "      <td>66.226913</td>\n",
       "      <td>18.997361</td>\n",
       "    </tr>\n",
       "    <tr>\n",
       "      <th>1</th>\n",
       "      <td>18.458198</td>\n",
       "      <td>68.838219</td>\n",
       "      <td>12.703583</td>\n",
       "    </tr>\n",
       "    <tr>\n",
       "      <th>2</th>\n",
       "      <td>12.083656</td>\n",
       "      <td>71.417506</td>\n",
       "      <td>16.498838</td>\n",
       "    </tr>\n",
       "  </tbody>\n",
       "</table>\n",
       "</div>"
      ],
      "text/plain": [
       "V241003      1.000      1.525      2.000\n",
       "cluster                                 \n",
       "0        14.775726  66.226913  18.997361\n",
       "1        18.458198  68.838219  12.703583\n",
       "2        12.083656  71.417506  16.498838"
      ]
     },
     "execution_count": 18,
     "metadata": {},
     "output_type": "execute_result"
    }
   ],
   "source": [
    "# gender as percentages in each cluster\n",
    "# 1 = man, 2 = woman, 1.525 = unknown/imputated\n",
    "\n",
    "gender_percent = gender_counts.div(gender_counts.sum(axis=1), axis=0) * 100\n",
    "\n",
    "gender_percent"
   ]
  },
  {
   "cell_type": "code",
   "execution_count": 19,
   "id": "5819f3ff-7643-4ab4-88fe-774a5ca9fb83",
   "metadata": {},
   "outputs": [],
   "source": [
    "# rename numbers to gender\n",
    "gender_percent = gender_percent.rename(columns={1.0: \"Men\", 1.525: \"Unknown\", 2.0: \"Women\"})"
   ]
  },
  {
   "cell_type": "code",
   "execution_count": 84,
   "id": "c57386df-df1b-4b6b-a9ac-ad76d8d9cebd",
   "metadata": {},
   "outputs": [
    {
     "data": {
      "image/png": "[encoded data removed]",
      "text/plain": [
       "<Figure size 640x480 with 1 Axes>"
      ]
     },
     "metadata": {},
     "output_type": "display_data"
    },
    {
     "data": {
      "text/plain": [
       "<Figure size 640x480 with 0 Axes>"
      ]
     },
     "metadata": {},
     "output_type": "display_data"
    }
   ],
   "source": [
    "# Plot\n",
    "gender_percent.plot(kind='bar', stacked=True, color=[\"#184a45ff\", \"#b0b8b4ff\", \"#fc766aff\"])\n",
    "plt.xlabel(\"Cluster Number\")\n",
    "plt.xticks(rotation = 0)\n",
    "plt.ylabel(\"Percentage\")\n",
    "plt.title(\"Gender Distribution Across Political Clusters\", pad=20, fontsize=14)\n",
    "plt.tight_layout()\n",
    "plt.show()\n",
    "plt.savefig(\"gender_distr.png\")"
   ]
  },
  {
   "cell_type": "markdown",
   "id": "fdf6529a-81d2-4c3d-b4df-2c1fe09acdbc",
   "metadata": {},
   "source": [
    "#### Var = V241017a - Race \n",
    "- 1 = white\n",
    "- 2 = black\n",
    "- 3 = hispanic\n",
    "- 4 = asian\n",
    "- 5 = mixed/other"
   ]
  },
  {
   "cell_type": "code",
   "execution_count": 21,
   "id": "bec77cad-e087-404f-912e-f7cd926508d9",
   "metadata": {},
   "outputs": [],
   "source": [
    "#ts_num.groupby([\"cluster\", \"V241017a\"]).size().unstack()\n",
    "\n",
    "#age_data = ts_clean.copy()\n",
    "#age_data[\"cluster\"] = ts_num[\"cluster\"]\n",
    "#age_data.groupby([\"cluster\", \"V241017a\"]).size().unstack()"
   ]
  },
  {
   "cell_type": "code",
   "execution_count": 22,
   "id": "21163d37-fd78-407e-bd44-40fe3df5699a",
   "metadata": {},
   "outputs": [],
   "source": [
    "race_data = pd.read_csv(\"anes_timeseries_2024_csv_20250219.csv\", usecols=[\"V241017\"])\n",
    "race_data[\"cluster\"] = ts_num[\"cluster\"]\n"
   ]
  },
  {
   "cell_type": "code",
   "execution_count": 23,
   "id": "362882a7-4552-46d5-bd65-4f604a183837",
   "metadata": {},
   "outputs": [],
   "source": [
    "#import pandas as pd\n",
    "\n",
    "#Load just the column names from the original file\n",
    "#cols = pd.read_csv(\"anes_timeseries_2024_csv_20250219.csv\", nrows=0).columns.tolist()\n",
    "#cols\n"
   ]
  },
  {
   "cell_type": "code",
   "execution_count": 60,
   "id": "97843680-4b7a-4c0e-8594-e4b7c0190e6d",
   "metadata": {},
   "outputs": [],
   "source": [
    "race_data = pd.read_csv(\"anes_timeseries_2024_csv_20250219.csv\", usecols=[\"V241501x\"])\n",
    "race_data[\"cluster\"] = ts_num[\"cluster\"]\n"
   ]
  },
  {
   "cell_type": "code",
   "execution_count": 61,
   "id": "7aaf5177-d468-4e0d-9bad-df01702533a5",
   "metadata": {},
   "outputs": [],
   "source": [
    "race_counts = race_data.groupby([\"cluster\", \"V241501x\"]).size().unstack()"
   ]
  },
  {
   "cell_type": "code",
   "execution_count": 62,
   "id": "02a290c0-e14e-42be-9edc-6d27ead2672a",
   "metadata": {},
   "outputs": [
    {
     "data": {
      "text/html": [
       "<div>\n",
       "<style scoped>\n",
       "    .dataframe tbody tr th:only-of-type {\n",
       "        vertical-align: middle;\n",
       "    }\n",
       "\n",
       "    .dataframe tbody tr th {\n",
       "        vertical-align: top;\n",
       "    }\n",
       "\n",
       "    .dataframe thead th {\n",
       "        text-align: right;\n",
       "    }\n",
       "</style>\n",
       "<table border=\"1\" class=\"dataframe\">\n",
       "  <thead>\n",
       "    <tr style=\"text-align: right;\">\n",
       "      <th>V241501x</th>\n",
       "      <th>-9</th>\n",
       "      <th>-8</th>\n",
       "      <th>-4</th>\n",
       "      <th>1</th>\n",
       "      <th>2</th>\n",
       "      <th>3</th>\n",
       "      <th>4</th>\n",
       "      <th>5</th>\n",
       "      <th>6</th>\n",
       "    </tr>\n",
       "    <tr>\n",
       "      <th>cluster</th>\n",
       "      <th></th>\n",
       "      <th></th>\n",
       "      <th></th>\n",
       "      <th></th>\n",
       "      <th></th>\n",
       "      <th></th>\n",
       "      <th></th>\n",
       "      <th></th>\n",
       "      <th></th>\n",
       "    </tr>\n",
       "  </thead>\n",
       "  <tbody>\n",
       "    <tr>\n",
       "      <th>0</th>\n",
       "      <td>5.0</td>\n",
       "      <td>NaN</td>\n",
       "      <td>1.0</td>\n",
       "      <td>818.0</td>\n",
       "      <td>130.0</td>\n",
       "      <td>108.0</td>\n",
       "      <td>40.0</td>\n",
       "      <td>2.0</td>\n",
       "      <td>33.0</td>\n",
       "    </tr>\n",
       "    <tr>\n",
       "      <th>1</th>\n",
       "      <td>16.0</td>\n",
       "      <td>NaN</td>\n",
       "      <td>1.0</td>\n",
       "      <td>792.0</td>\n",
       "      <td>9.0</td>\n",
       "      <td>52.0</td>\n",
       "      <td>15.0</td>\n",
       "      <td>6.0</td>\n",
       "      <td>30.0</td>\n",
       "    </tr>\n",
       "    <tr>\n",
       "      <th>2</th>\n",
       "      <td>23.0</td>\n",
       "      <td>1.0</td>\n",
       "      <td>NaN</td>\n",
       "      <td>691.0</td>\n",
       "      <td>192.0</td>\n",
       "      <td>227.0</td>\n",
       "      <td>70.0</td>\n",
       "      <td>19.0</td>\n",
       "      <td>68.0</td>\n",
       "    </tr>\n",
       "  </tbody>\n",
       "</table>\n",
       "</div>"
      ],
      "text/plain": [
       "V241501x    -9   -8   -4      1      2      3     4     5     6\n",
       "cluster                                                        \n",
       "0          5.0  NaN  1.0  818.0  130.0  108.0  40.0   2.0  33.0\n",
       "1         16.0  NaN  1.0  792.0    9.0   52.0  15.0   6.0  30.0\n",
       "2         23.0  1.0  NaN  691.0  192.0  227.0  70.0  19.0  68.0"
      ]
     },
     "execution_count": 62,
     "metadata": {},
     "output_type": "execute_result"
    }
   ],
   "source": [
    "race_counts"
   ]
  },
  {
   "cell_type": "code",
   "execution_count": 63,
   "id": "c0c69347-2b29-4d54-9096-0ba2edc60227",
   "metadata": {},
   "outputs": [
    {
     "data": {
      "text/html": [
       "<div>\n",
       "<style scoped>\n",
       "    .dataframe tbody tr th:only-of-type {\n",
       "        vertical-align: middle;\n",
       "    }\n",
       "\n",
       "    .dataframe tbody tr th {\n",
       "        vertical-align: top;\n",
       "    }\n",
       "\n",
       "    .dataframe thead th {\n",
       "        text-align: right;\n",
       "    }\n",
       "</style>\n",
       "<table border=\"1\" class=\"dataframe\">\n",
       "  <thead>\n",
       "    <tr style=\"text-align: right;\">\n",
       "      <th>V241501x</th>\n",
       "      <th>-9</th>\n",
       "      <th>-8</th>\n",
       "      <th>-4</th>\n",
       "      <th>1</th>\n",
       "      <th>2</th>\n",
       "      <th>3</th>\n",
       "      <th>4</th>\n",
       "      <th>5</th>\n",
       "      <th>6</th>\n",
       "    </tr>\n",
       "    <tr>\n",
       "      <th>cluster</th>\n",
       "      <th></th>\n",
       "      <th></th>\n",
       "      <th></th>\n",
       "      <th></th>\n",
       "      <th></th>\n",
       "      <th></th>\n",
       "      <th></th>\n",
       "      <th></th>\n",
       "      <th></th>\n",
       "    </tr>\n",
       "  </thead>\n",
       "  <tbody>\n",
       "    <tr>\n",
       "      <th>0</th>\n",
       "      <td>0.439754</td>\n",
       "      <td>NaN</td>\n",
       "      <td>0.087951</td>\n",
       "      <td>71.943712</td>\n",
       "      <td>11.433597</td>\n",
       "      <td>9.498681</td>\n",
       "      <td>3.518030</td>\n",
       "      <td>0.175901</td>\n",
       "      <td>2.902375</td>\n",
       "    </tr>\n",
       "    <tr>\n",
       "      <th>1</th>\n",
       "      <td>1.737242</td>\n",
       "      <td>NaN</td>\n",
       "      <td>0.108578</td>\n",
       "      <td>85.993485</td>\n",
       "      <td>0.977199</td>\n",
       "      <td>5.646037</td>\n",
       "      <td>1.628664</td>\n",
       "      <td>0.651466</td>\n",
       "      <td>3.257329</td>\n",
       "    </tr>\n",
       "    <tr>\n",
       "      <th>2</th>\n",
       "      <td>1.781565</td>\n",
       "      <td>0.077459</td>\n",
       "      <td>NaN</td>\n",
       "      <td>53.524400</td>\n",
       "      <td>14.872192</td>\n",
       "      <td>17.583269</td>\n",
       "      <td>5.422153</td>\n",
       "      <td>1.471727</td>\n",
       "      <td>5.267235</td>\n",
       "    </tr>\n",
       "  </tbody>\n",
       "</table>\n",
       "</div>"
      ],
      "text/plain": [
       "V241501x        -9        -8        -4          1          2          3  \\\n",
       "cluster                                                                   \n",
       "0         0.439754       NaN  0.087951  71.943712  11.433597   9.498681   \n",
       "1         1.737242       NaN  0.108578  85.993485   0.977199   5.646037   \n",
       "2         1.781565  0.077459       NaN  53.524400  14.872192  17.583269   \n",
       "\n",
       "V241501x         4         5         6  \n",
       "cluster                                 \n",
       "0         3.518030  0.175901  2.902375  \n",
       "1         1.628664  0.651466  3.257329  \n",
       "2         5.422153  1.471727  5.267235  "
      ]
     },
     "execution_count": 63,
     "metadata": {},
     "output_type": "execute_result"
    }
   ],
   "source": [
    "# convert to %s\n",
    "\n",
    "race_percent = race_counts.div(race_counts.sum(axis=1), axis=0) * 100\n",
    "\n",
    "race_percent"
   ]
  },
  {
   "cell_type": "code",
   "execution_count": 87,
   "id": "2ca7f2c4-ee37-45da-8639-310c1dc4ed01",
   "metadata": {},
   "outputs": [
    {
     "data": {
      "image/png": "[encoded data removed]",
      "text/plain": [
       "<Figure size 1000x600 with 1 Axes>"
      ]
     },
     "metadata": {},
     "output_type": "display_data"
    }
   ],
   "source": [
    "# rename codes\n",
    "race_percent = race_percent.rename(columns={\n",
    "    -9: \"Refused\",\n",
    "    -8: \"Don't know\",\n",
    "    -4: \"Error\",\n",
    "    1: \"White\",\n",
    "    2: \"Black\",\n",
    "    3: \"Hispanic\",\n",
    "    4: \"Asian\",\n",
    "    5: \"Native/Other\",\n",
    "    6: \"Multiracial\"\n",
    "})\n",
    "\n",
    "# plot\n",
    "race_percent.plot(\n",
    "    kind='bar', \n",
    "    stacked=True, \n",
    "    figsize=(10,6), \n",
    "    color=[\n",
    "    \"#d9d9d9\",  # Refused (light gray)\n",
    "    \"#f0e68c\",  # Don't know (khaki)\n",
    "    \"#fddbc7\",  # Error (pale coral)\n",
    "    \"#2d4263\",  # White (yellow)\n",
    "    \"#ecb362\",  # Black (dark blue)\n",
    "    \"#c34c36\",  # Hispanic (dark red)\n",
    "    \"#191919\",  # Asian ()\n",
    "    \"#ecdabb\",  # Native/Other (deep purple)\n",
    "    \"#a36447\"   # Multiracial ()\n",
    "    ])\n",
    "plt.title(\"Racial/Ethnic Breakdown by Cluster\", pad=20, fontsize=14)\n",
    "plt.xticks(rotation=0)\n",
    "plt.xlabel(\"Cluster Number\")\n",
    "plt.ylabel(\"Percentage\")\n",
    "plt.savefig(\"race_breakdown.png\")"
   ]
  },
  {
   "cell_type": "markdown",
   "id": "d50dd4f9-09f5-4945-8b8c-c5d98a448d5a",
   "metadata": {},
   "source": [
    "#### Cluster 2 stands out for its racial diversity, with a significantly higher share of Hispanic, Black, and Multiracial respondents. Cluster 1, by contrast, is predominantly White, suggesting a strong demographic divide across clusters."
   ]
  },
  {
   "cell_type": "markdown",
   "id": "89cb3442-a402-4e41-9d9f-c06025e833d7",
   "metadata": {},
   "source": [
    "## Employment Status"
   ]
  },
  {
   "cell_type": "markdown",
   "id": "857582bb-b3a1-4d01-ad8f-331def5e9d8f",
   "metadata": {},
   "source": [
    "\"V241489a\" → Homemaker\n",
    "\n",
    "\"V241489b\" → Retired\n",
    "\n",
    "\"V241489c\" → Permanently disabled\n",
    "\n",
    "\"V241489d\" → Full-time student\n",
    "\n",
    "\"V241489e\" → None of the above\n",
    "\n",
    "1 --> mentioned\n",
    "2---> not mentioned"
   ]
  },
  {
   "cell_type": "code",
   "execution_count": 52,
   "id": "ba88fe1b-af70-4070-9a82-962ec47c1736",
   "metadata": {},
   "outputs": [],
   "source": [
    "# load relevant employment columns\n",
    "empl_data = pd.read_csv(\"anes_timeseries_2024_csv_20250219.csv\", usecols=[\"V241489a\", \"V241489b\", \"V241489c\", \"V241489d\", \"V241489e\"])\n",
    "\n",
    "# attach cluster\n",
    "empl_data[\"cluster\"] = ts_num[\"cluster\"]\n"
   ]
  },
  {
   "cell_type": "code",
   "execution_count": 54,
   "id": "4b4c0b97-d1c8-4b95-b030-0bc6cd6d38a4",
   "metadata": {},
   "outputs": [
    {
     "data": {
      "text/html": [
       "<div>\n",
       "<style scoped>\n",
       "    .dataframe tbody tr th:only-of-type {\n",
       "        vertical-align: middle;\n",
       "    }\n",
       "\n",
       "    .dataframe tbody tr th {\n",
       "        vertical-align: top;\n",
       "    }\n",
       "\n",
       "    .dataframe thead th {\n",
       "        text-align: right;\n",
       "    }\n",
       "</style>\n",
       "<table border=\"1\" class=\"dataframe\">\n",
       "  <thead>\n",
       "    <tr style=\"text-align: right;\">\n",
       "      <th></th>\n",
       "      <th>V241489a</th>\n",
       "      <th>V241489b</th>\n",
       "      <th>V241489c</th>\n",
       "      <th>V241489d</th>\n",
       "      <th>V241489e</th>\n",
       "    </tr>\n",
       "    <tr>\n",
       "      <th>cluster</th>\n",
       "      <th></th>\n",
       "      <th></th>\n",
       "      <th></th>\n",
       "      <th></th>\n",
       "      <th></th>\n",
       "    </tr>\n",
       "  </thead>\n",
       "  <tbody>\n",
       "    <tr>\n",
       "      <th>0</th>\n",
       "      <td>10.378188</td>\n",
       "      <td>31.750220</td>\n",
       "      <td>2.902375</td>\n",
       "      <td>2.462621</td>\n",
       "      <td>49.252419</td>\n",
       "    </tr>\n",
       "    <tr>\n",
       "      <th>1</th>\n",
       "      <td>13.680782</td>\n",
       "      <td>33.659066</td>\n",
       "      <td>3.908795</td>\n",
       "      <td>-0.108578</td>\n",
       "      <td>44.625407</td>\n",
       "    </tr>\n",
       "    <tr>\n",
       "      <th>2</th>\n",
       "      <td>8.597986</td>\n",
       "      <td>4.725019</td>\n",
       "      <td>0.697134</td>\n",
       "      <td>-0.077459</td>\n",
       "      <td>55.538342</td>\n",
       "    </tr>\n",
       "  </tbody>\n",
       "</table>\n",
       "</div>"
      ],
      "text/plain": [
       "          V241489a   V241489b  V241489c  V241489d   V241489e\n",
       "cluster                                                     \n",
       "0        10.378188  31.750220  2.902375  2.462621  49.252419\n",
       "1        13.680782  33.659066  3.908795 -0.108578  44.625407\n",
       "2         8.597986   4.725019  0.697134 -0.077459  55.538342"
      ]
     },
     "execution_count": 54,
     "metadata": {},
     "output_type": "execute_result"
    }
   ],
   "source": [
    "# % of each cluster with 1 as answer to each empl status\n",
    "\n",
    "empl_count = empl_data.groupby([\"cluster\"])\n",
    "empl_count_perc = empl_count.mean() * 100\n",
    "\n",
    "empl_count_perc"
   ]
  },
  {
   "cell_type": "code",
   "execution_count": 55,
   "id": "75af34a9-03e1-43c3-a4f4-a95b8002a01c",
   "metadata": {},
   "outputs": [],
   "source": [
    "# rename cols\n",
    "\n",
    "empl_count_perc = empl_count_perc.rename(columns={\"V241489a\": \"Homemaker\", \"V241489b\": \"Retired\", \"V241489c\": \"Permanently Disabled\", \"V241489d\": \"Full-time Student\", \"V241489e\": \"None of the Above\"})"
   ]
  },
  {
   "cell_type": "code",
   "execution_count": 90,
   "id": "55b2b853-6544-4c03-a71d-901209b2c409",
   "metadata": {},
   "outputs": [
    {
     "data": {
      "image/png": "[encoded data removed]",
      "text/plain": [
       "<Figure size 640x480 with 1 Axes>"
      ]
     },
     "metadata": {},
     "output_type": "display_data"
    },
    {
     "data": {
      "text/plain": [
       "<Figure size 640x480 with 0 Axes>"
      ]
     },
     "metadata": {},
     "output_type": "display_data"
    }
   ],
   "source": [
    "# plot\n",
    "\n",
    "empl_count_perc.plot(\n",
    "    kind='bar',\n",
    "    color=[\n",
    "    \"#e84a5f\",\n",
    "    \"#99b898\",\n",
    "    \"#ff847c\",\n",
    "    \"#feceab\",\n",
    "    \"#2a363b\"\n",
    "    ])\n",
    "plt.xticks(rotation=0)\n",
    "plt.xlabel(\"Cluster Number\")\n",
    "plt.ylabel(\"Percentage\")\n",
    "plt.title(\"Employment Status Profiles Across Voter Clusters\", pad=20, fontsize=13)\n",
    "plt.show()\n",
    "plt.savefig(\"employment_breakdown.png\")"
   ]
  },
  {
   "cell_type": "markdown",
   "id": "b13f282e-d14f-45c8-ad89-8c07bd300a49",
   "metadata": {},
   "source": [
    "## Meaning of chart\n",
    "\n",
    "### cluster 0\n",
    "####    - Harris-leaning, most political attention\n",
    "####    - mid # of homemakers, retirees, disabled, one of the above (or employed)\n",
    "####    - highest # of full-time students\n",
    "\n",
    "### cluster 1\n",
    "####    - Trump-leaning, mid political attention\n",
    "####    - highest # of homemakers, retirees, disabled\n",
    "####    - lowest # of full-time students, none of the above (or employed)\n",
    "\n",
    "### cluster 2\n",
    "#### - Unknown/Trump-leaning, lowest political attention\n",
    "#### - highest # of none of the above (or employed)\n",
    "#### - lowest # of homemakers, retired, disabled, full-time students\n",
    "#### "
   ]
  },
  {
   "cell_type": "code",
   "execution_count": null,
   "id": "93bf3a35-9141-44cc-98fd-12e309e49f86",
   "metadata": {},
   "outputs": [],
   "source": []
  }
 ],
 "metadata": {
  "kernelspec": {
   "display_name": "Python 3 (ipykernel)",
   "language": "python",
   "name": "python3"
  },
  "language_info": {
   "codemirror_mode": {
    "name": "ipython",
    "version": 3
   },
   "file_extension": ".py",
   "mimetype": "text/x-python",
   "name": "python",
   "nbconvert_exporter": "python",
   "pygments_lexer": "ipython3",
   "version": "3.12.2"
  }
 },
 "nbformat": 4,
 "nbformat_minor": 5
}
